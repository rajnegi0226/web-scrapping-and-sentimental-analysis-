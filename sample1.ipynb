{
 "cells": [
  {
   "cell_type": "code",
   "execution_count": 3,
   "metadata": {},
   "outputs": [],
   "source": [
    "from bs4 import BeautifulSoup\n",
    "import requests\n",
    "import pandas as pd\n",
    "from textblob import TextBlob"
   ]
  },
  {
   "cell_type": "code",
   "execution_count": 4,
   "metadata": {},
   "outputs": [],
   "source": [
    "url=\"https://indianexpress.com/about/manipur-attack/\"\n",
    "html = requests.get(url)\n",
    "soup = BeautifulSoup(html.content,'html.parser')\n",
    "data_1={'Heading':[],'Article':[],'Sentiment':[]}\n",
    "for i in soup.find_all('p'):\n",
    "    data_1['Article'].append((i.text).replace(\"\\n\",'').replace(\"\\r\",'').replace('\\xa0',''))\n",
    "data_1['Article'] = data_1['Article'][::-1]\n",
    "data_1['Article'] = data_1['Article'][::2]\n",
    "for i in soup.find_all('h3'):\n",
    "    data_1['Heading'].append(i.text)"
   ]
  },
  {
   "cell_type": "code",
   "execution_count": 5,
   "metadata": {},
   "outputs": [],
   "source": [
    "url='https://www.ndtv.com/topic/manipur-violence'\n",
    "html = requests.get(url)\n",
    "soup = BeautifulSoup(html.content,'html.parser')"
   ]
  },
  {
   "cell_type": "code",
   "execution_count": 6,
   "metadata": {},
   "outputs": [],
   "source": [
    "h=[]\n",
    "for i in soup.find_all('div',{'class':\"src_itm-ttl\"}):\n",
    "    h.append((i.text).replace(\"\\n\",'').replace(\"\\r\",'').replace('\\xa0',''))\n",
    "h = h[2:]"
   ]
  },
  {
   "cell_type": "code",
   "execution_count": 7,
   "metadata": {},
   "outputs": [],
   "source": [
    "ar =[]\n",
    "for i in soup.find_all('div',{'class':\"src_itm-txt\"}):\n",
    "    ar.append((i.text).replace(\"\\n\",'').replace(\"\\r\",'').replace('\\xa0','').replace('                        ','').replace('                    ',''))\n",
    "ar = ar[2:]"
   ]
  },
  {
   "cell_type": "code",
   "execution_count": 8,
   "metadata": {},
   "outputs": [],
   "source": [
    "for i in ar:\n",
    "    data_1['Article'].append(i)\n",
    "for i in h:\n",
    "    data_1['Heading'].append(i)"
   ]
  },
  {
   "cell_type": "code",
   "execution_count": 9,
   "metadata": {},
   "outputs": [],
   "source": [
    "polarity =[]\n",
    "def analyze_sentiment(i):\n",
    "    analysis=TextBlob(i)\n",
    "    if analysis.sentiment.polarity>0:\n",
    "        polarity.append(analysis.sentiment.polarity)\n",
    "        return \"positive\"\n",
    "    elif analysis.sentiment.polarity==0:\n",
    "        polarity.append(analysis.sentiment.polarity)\n",
    "        return \"neutral\"\n",
    "    else:\n",
    "        polarity.append(analysis.sentiment.polarity)\n",
    "        return \"negetive\""
   ]
  },
  {
   "cell_type": "code",
   "execution_count": 10,
   "metadata": {},
   "outputs": [],
   "source": [
    "for i in data_1[\"Article\"]:\n",
    "    data_1['Sentiment'].append(analyze_sentiment(i))"
   ]
  },
  {
   "cell_type": "code",
   "execution_count": 11,
   "metadata": {},
   "outputs": [],
   "source": [
    "data_1['Polarity'] = polarity"
   ]
  },
  {
   "cell_type": "code",
   "execution_count": 12,
   "metadata": {},
   "outputs": [
    {
     "name": "stdout",
     "output_type": "stream",
     "text": [
      "38\n",
      "38\n",
      "38\n",
      "38\n"
     ]
    }
   ],
   "source": [
    "print(len(data_1['Polarity']))\n",
    "print(len(data_1['Heading']))\n",
    "print(len(data_1['Article']))\n",
    "print(len(data_1['Sentiment']))"
   ]
  },
  {
   "cell_type": "code",
   "execution_count": 13,
   "metadata": {},
   "outputs": [],
   "source": [
    "df = pd.DataFrame(data_1)"
   ]
  },
  {
   "cell_type": "code",
   "execution_count": 21,
   "metadata": {},
   "outputs": [],
   "source": [
    "import seaborn as sns"
   ]
  },
  {
   "cell_type": "code",
   "execution_count": null,
   "metadata": {},
   "outputs": [
    {
     "data": {
      "text/plain": [
       "<AxesSubplot: xlabel='Polarity', ylabel='Count'>"
      ]
     },
     "execution_count": 101,
     "metadata": {},
     "output_type": "execute_result"
    },
    {
     "data": {
      "image/png": "[encoded data removed]",
      "text/plain": [
       "<Figure size 640x480 with 1 Axes>"
      ]
     },
     "metadata": {},
     "output_type": "display_data"
    }
   ],
   "source": [
    "sns.histplot(df['Polarity'])"
   ]
  },
  {
   "cell_type": "code",
   "execution_count": null,
   "metadata": {},
   "outputs": [],
   "source": [
    "df.to_csv(\"C:/Users/Vivek negi/OneDrive/Desktop/data/smaple_data_1.csv\",index=False)"
   ]
  }
 ],
 "metadata": {
  "kernelspec": {
   "display_name": "Python 3",
   "language": "python",
   "name": "python3"
  },
  "language_info": {
   "codemirror_mode": {
    "name": "ipython",
    "version": 3
   },
   "file_extension": ".py",
   "mimetype": "text/x-python",
   "name": "python",
   "nbconvert_exporter": "python",
   "pygments_lexer": "ipython3",
   "version": "3.11.0"
  },
  "orig_nbformat": 4
 },
 "nbformat": 4,
 "nbformat_minor": 2
}
