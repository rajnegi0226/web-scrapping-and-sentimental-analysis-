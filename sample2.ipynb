{
 "cells": [
  {
   "cell_type": "code",
   "execution_count": 1,
   "metadata": {},
   "outputs": [],
   "source": [
    "from bs4 import BeautifulSoup\n",
    "import requests\n",
    "import pandas as pd\n",
    "from textblob import TextBlob"
   ]
  },
  {
   "cell_type": "code",
   "execution_count": 174,
   "metadata": {},
   "outputs": [],
   "source": [
    "url=\"https://indianexpress.com/article/india/fresh-violence-breaks-out-in-manipur-centre-sets-up-probe-panel-8645682/\"\n",
    "html = requests.get(url)\n",
    "soup = BeautifulSoup(html.content,'html.parser')"
   ]
  },
  {
   "cell_type": "code",
   "execution_count": 175,
   "metadata": {},
   "outputs": [],
   "source": [
    "data={'Article':[],'Sentiment':[]}\n",
    "for i in soup.find_all('p'):\n",
    "    data['Article'].append(i.text)"
   ]
  },
  {
   "cell_type": "code",
   "execution_count": 181,
   "metadata": {},
   "outputs": [],
   "source": [
    "data['Article']=data['Article'][:-2]"
   ]
  },
  {
   "cell_type": "code",
   "execution_count": 183,
   "metadata": {},
   "outputs": [],
   "source": [
    "ar = data['Article']\n",
    "delimiter = ''\n",
    "string = delimiter.join(ar)\n",
    "ar ='{0}'.format(string)\n"
   ]
  },
  {
   "cell_type": "code",
   "execution_count": 184,
   "metadata": {},
   "outputs": [],
   "source": [
    "data['Article'] = ar"
   ]
  },
  {
   "cell_type": "code",
   "execution_count": 186,
   "metadata": {},
   "outputs": [],
   "source": [
    "url=\"https://www.thehindu.com/news/national/other-states/manipur-khamenlok-many-killed-june-13-2023/article66967216.ece\"\n",
    "html = requests.get(url)\n",
    "soup = BeautifulSoup(html.content,'html.parser')"
   ]
  },
  {
   "cell_type": "code",
   "execution_count": 187,
   "metadata": {},
   "outputs": [],
   "source": [
    "ar =[]\n",
    "for i in soup.find_all('p'):\n",
    "    ar.append((i.text).replace(\"\\n\",'').replace(\"\\r\",'').replace('\\xa0',''))"
   ]
  },
  {
   "cell_type": "code",
   "execution_count": 188,
   "metadata": {},
   "outputs": [],
   "source": [
    "ar = ar[6:-6]"
   ]
  },
  {
   "cell_type": "code",
   "execution_count": 189,
   "metadata": {},
   "outputs": [],
   "source": [
    "delimiter = ''\n",
    "string = delimiter.join(ar)\n",
    "ar=('{0}'.format(string))"
   ]
  },
  {
   "cell_type": "code",
   "execution_count": 190,
   "metadata": {},
   "outputs": [],
   "source": [
    "data['Article'] = [data[\"Article\"],ar]"
   ]
  },
  {
   "cell_type": "code",
   "execution_count": 192,
   "metadata": {},
   "outputs": [],
   "source": [
    "url=\"https://news.abplive.com/northeast/rahul-gandhi-convoy-stopped-by-manipur-police-near-bishnupur-says-congress-1612318\"\n",
    "html = requests.get(url)\n",
    "soup = BeautifulSoup(html.content,'html.parser')"
   ]
  },
  {
   "cell_type": "code",
   "execution_count": 193,
   "metadata": {},
   "outputs": [],
   "source": [
    "ar=[]\n",
    "for i in soup.find_all('div',{'class':\"css-901oao r-18jsvk2 r-37j5jr r-1inkyih r-16dba41 r-135wba7 r-bcqeeo r-bnwqim r-qvutc0\"}):\n",
    "    ar.append((i.text).replace(\"\\n\",'').replace(\"\\r\",''))\n",
    "    # print(i.text)"
   ]
  },
  {
   "cell_type": "code",
   "execution_count": 194,
   "metadata": {},
   "outputs": [],
   "source": [
    "ar = \"\".join(ar)\n",
    "data['Article'].append(ar)"
   ]
  },
  {
   "cell_type": "code",
   "execution_count": 196,
   "metadata": {},
   "outputs": [],
   "source": [
    "url=\"https://www.bbc.com/news/world-asia-india-65679616\"\n",
    "html = requests.get(url)\n",
    "soup = BeautifulSoup(html.content,'html.parser')"
   ]
  },
  {
   "cell_type": "code",
   "execution_count": 197,
   "metadata": {},
   "outputs": [],
   "source": [
    "h = []\n",
    "for i in soup.find_all('h1',{'class':\"ssrcss-15xko80-StyledHeading e1fj1fc10\"}):\n",
    "    h.append(((i.text).replace(\"\\n\",'').replace(\"\\r\",'')))"
   ]
  },
  {
   "cell_type": "code",
   "execution_count": 203,
   "metadata": {},
   "outputs": [],
   "source": [
    "p =[]\n",
    "for i in soup.find_all('p',{'class':\"ssrcss-1q0x1qg-Paragraph eq5iqo00\"}):\n",
    "    p.append((i.text).replace('\\n','').replace('\\r','').replace(\"\\'\",\" \"))\n",
    "p = p[:-2]"
   ]
  },
  {
   "cell_type": "code",
   "execution_count": 205,
   "metadata": {},
   "outputs": [],
   "source": [
    "p = \"\".join(p)"
   ]
  },
  {
   "cell_type": "code",
   "execution_count": 206,
   "metadata": {},
   "outputs": [],
   "source": [
    "h.append(p)\n",
    "h = '. '.join(h)"
   ]
  },
  {
   "cell_type": "code",
   "execution_count": 208,
   "metadata": {},
   "outputs": [],
   "source": [
    "data['Article'].append(h)"
   ]
  },
  {
   "cell_type": "code",
   "execution_count": 209,
   "metadata": {},
   "outputs": [],
   "source": [
    "url=\"https://www.hindustantimes.com/india-news/after-three-days-of-fragile-peace-fresh-attack-hits-manipur-101686336732447.html\"\n",
    "header = {'User-Agent': 'Mozilla/5.0 (Windows NT 6.1; Win64; x64) AppleWebKit/537.36 (KHTML, like Gecko) Chrome/63.0.3239.132 Safari/537.36'}\n",
    "response = requests.get(url, headers=header).text\n",
    "soup = BeautifulSoup(response, 'html.parser')"
   ]
  },
  {
   "cell_type": "code",
   "execution_count": 221,
   "metadata": {},
   "outputs": [],
   "source": [
    "ar=[]\n",
    "for i in soup.find_all('p'):\n",
    "    ar.append((i.text).replace('\\n','').replace('\\r','').replace(\"\\'\",\" \"))\n",
    "ar=ar[1:-4]"
   ]
  },
  {
   "cell_type": "code",
   "execution_count": 223,
   "metadata": {},
   "outputs": [],
   "source": [
    "ar = \"\".join(ar)"
   ]
  },
  {
   "cell_type": "code",
   "execution_count": 224,
   "metadata": {},
   "outputs": [],
   "source": [
    "data['Article'].append(ar)"
   ]
  },
  {
   "cell_type": "code",
   "execution_count": 226,
   "metadata": {},
   "outputs": [],
   "source": [
    "polarity =[]\n",
    "def analyze_sentiment(i):\n",
    "    analysis=TextBlob(i)\n",
    "    if analysis.sentiment.polarity>0:\n",
    "        polarity.append(analysis.sentiment.polarity)\n",
    "        return \"positive\"\n",
    "    elif analysis.sentiment.polarity==0:\n",
    "        polarity.append(analysis.sentiment.polarity)\n",
    "        return \"neutral\"\n",
    "    else:\n",
    "        polarity.append(analysis.sentiment.polarity)\n",
    "        return \"negetive\""
   ]
  },
  {
   "cell_type": "code",
   "execution_count": 231,
   "metadata": {},
   "outputs": [
    {
     "name": "stdout",
     "output_type": "stream",
     "text": [
      "EVEN AS the Centre on Sunday announced a Commission of Inquiry, headed by former Gauhati High Court Chief Justice Ajai Lamba, to probe the Manipur violence which began on May 3, fresh clashes were reported in Sugnu town of Kakching district which is part of the Valley area.Police said the firing started after midnight at Sugnu Mamang Leikai. At least one person is reported to have been injured in the exchange of fire. Sugnu saw largescale violence, including firing incidents and burning of houses, on May 28.The fresh shootout on Sunday was the most intense since May 28, said Nanao, a resident of Sugnu Bazaar. While he claimed that the house of a Congress MLA was also partially burnt in Serou, also in Kakching district, there was no official confirmation.While the official toll in the month-long violence was given as 98 on Saturday, one more person, who was injured in Phayeng village of Imphal West district on June 2, succumbed to his injuries on Sunday.Chanthoi, a woman leader of Sugnu, accused the Kukis of breaching the peace. “When the rest of the state was burning, Sugnu was the only place where both Kukis and Meitei were living peacefully. This was possible because a peace committee was formed and both sides agreed to restrain themselves, until suspected Kuki militants attacked villages in our area on May 28,” she saidWhile police sources said that seven bodies have been recovered in Sugnu since the start of the violence, local sources said eight persons – four from each side – have been killed so far.Sources said fresh shooting was also reported in Phayeng and Senjam Chirang areas of Imphal West on Sunday.Meanwhile, the probe panel set up by the Centre, which will include retired IAS officer Himanshu Shekhar Das and retired IPS officer Prabhakar Aloka, has been asked to submit its report “not later than six months from the date of its first sitting”.A judicial probe panel was among the series of measures announced by Union Home Minister Amit Shah on Thursday, at the end of his four-day visit to Manipur. He also announced a peace committee led by Governor Anusuiya Uikey, and an inter-agency unified command for better coordination on the ground.According to a notification issued by the Union Ministry of Home Affairs (MHA) on Sunday, the commission will probe the causes and spread of the violence. It will be headquartered in Imphal.“It will probe the sequence of events leading to, and all the facts relating to such violence; whether there were any lapses or dereliction of duty in this regard on the part of any of the responsible authorities/ individuals; and adequacy of the administrative measures taken to prevent, and to deal with the violence and riots,” it said.“The inquiry by the commission shall look into the complaints or allegations that may be made before it by any individual or association. The commission shall submit its report to the central government as soon as possible, but not later than six months from the date of its first sitting. The commission, however, if it deems fit, can make interim reports to the central government before the said date,” it said.Justice Lamba (retired), who was earlier a public prosecutor, was elevated as a Judge of the Punjab and Haryana High Court in 2006. He was transferred to the Allahabad High Court in 2011, and appointed as Gauhati High Court Chief Justice in 2019.Das is a retired IAS officer (Assam-Meghalaya cadre) of the 1982-batch. “He was Assam finance secretary for about 13 years, served as Chief Information Commissioner in the state, and was part of a police commission set up by the state government to recommend measures for improvement in the policing system, their activities and deployment in the state,” said a senior official.Aloka is a retired IPS officer (Telangana cadre) of the 1986-batch. He was earlier posted in Manipur and was also with the Intelligence Bureau for over three decades. “In the IB, he served in counter-terror, counter-insurgency, and anti-Naxal theatres. He retired as Special DG, IB, and later wrote books on covert operations of the IB,” said the official.The violence in Manipur first broke out after a ‘tribal solidarity march’ was organised in the hill districts on May 3 to protest against the Meitei community’s demand for Scheduled Tribe (ST) status. The state has been witnessing sporadic violence since then.Earlier in the day, Shah appealed to the people of Manipur to lift the blockades and facilitate the movement of essential goods. “My sincerest appeal to the people of Manipur is to lift the blockades at the Imphal-Dimapur, NH-2 Highway, so that food, medicines, petrol/diesel, and other necessary items can reach the people,” he tweeted. “I also request that civil society organisations do the needful in bringing consensus,” he said.Meanwhile, Kuldiep Singh, security advisor to the state government, said the situation was “by and large… under control”. “Curfew relaxation has been made for 12 hours in the valley, 10 hours and seven hours in the neighbouring hill districts. In the last 24 hours, 23 more arms have been recovered. This makes a total of 202 arms, 252 ammunition and 92 bombs of all kinds recovered after the visit of Union Home Minister Amit Shah. A total of 789 arms and 10,648 ammunition have been recovered till date,” he said.\n",
      "positive\n"
     ]
    }
   ],
   "source": [
    "for i in data[\"Article\"]:\n",
    "    data['Sentiment'].append(analyze_sentiment(i))\n",
    "print(data[\"Article\"][0])\n",
    "print(data[\"Sentiment\"][0])"
   ]
  },
  {
   "cell_type": "code",
   "execution_count": 233,
   "metadata": {},
   "outputs": [],
   "source": [
    "data['Polarity'] = polarity"
   ]
  },
  {
   "cell_type": "code",
   "execution_count": 238,
   "metadata": {},
   "outputs": [],
   "source": [
    "df= pd.DataFrame(data)"
   ]
  },
  {
   "cell_type": "code",
   "execution_count": 240,
   "metadata": {},
   "outputs": [],
   "source": [
    "df.to_csv(\"C:/Users/Vivek negi/OneDrive/Desktop/data/smaple_data_2.csv\",index=False)"
   ]
  }
 ],
 "metadata": {
  "kernelspec": {
   "display_name": "Python 3",
   "language": "python",
   "name": "python3"
  },
  "language_info": {
   "codemirror_mode": {
    "name": "ipython",
    "version": 3
   },
   "file_extension": ".py",
   "mimetype": "text/x-python",
   "name": "python",
   "nbconvert_exporter": "python",
   "pygments_lexer": "ipython3",
   "version": "3.11.0"
  },
  "orig_nbformat": 4
 },
 "nbformat": 4,
 "nbformat_minor": 2
}
